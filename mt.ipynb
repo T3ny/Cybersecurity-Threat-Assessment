{
 "cells": [
  {
   "cell_type": "code",
   "execution_count": 4,
   "metadata": {},
   "outputs": [
    {
     "name": "stdout",
     "output_type": "stream",
     "text": [
      "Requirement already satisfied: pandas in c:\\users\\user\\desktop\\cybersecurity-threat-assessment\\env\\lib\\site-packages (2.3.0)\n",
      "Requirement already satisfied: scikit-learn in c:\\users\\user\\desktop\\cybersecurity-threat-assessment\\env\\lib\\site-packages (1.7.1)\n",
      "Requirement already satisfied: matplotlib in c:\\users\\user\\desktop\\cybersecurity-threat-assessment\\env\\lib\\site-packages (3.9.4)\n",
      "Requirement already satisfied: seaborn in c:\\users\\user\\desktop\\cybersecurity-threat-assessment\\env\\lib\\site-packages (0.13.2)\n",
      "Requirement already satisfied: scipy in c:\\users\\user\\desktop\\cybersecurity-threat-assessment\\env\\lib\\site-packages (1.16.1)\n",
      "Requirement already satisfied: numpy in c:\\users\\user\\desktop\\cybersecurity-threat-assessment\\env\\lib\\site-packages (2.2.6)\n",
      "Requirement already satisfied: python-dateutil>=2.8.2 in c:\\users\\user\\desktop\\cybersecurity-threat-assessment\\env\\lib\\site-packages (from pandas) (2.9.0.post0)\n",
      "Requirement already satisfied: pytz>=2020.1 in c:\\users\\user\\desktop\\cybersecurity-threat-assessment\\env\\lib\\site-packages (from pandas) (2025.2)\n",
      "Requirement already satisfied: tzdata>=2022.7 in c:\\users\\user\\desktop\\cybersecurity-threat-assessment\\env\\lib\\site-packages (from pandas) (2025.2)\n",
      "Requirement already satisfied: joblib>=1.2.0 in c:\\users\\user\\desktop\\cybersecurity-threat-assessment\\env\\lib\\site-packages (from scikit-learn) (1.5.1)\n",
      "Requirement already satisfied: threadpoolctl>=3.1.0 in c:\\users\\user\\desktop\\cybersecurity-threat-assessment\\env\\lib\\site-packages (from scikit-learn) (3.6.0)\n",
      "Requirement already satisfied: contourpy>=1.0.1 in c:\\users\\user\\desktop\\cybersecurity-threat-assessment\\env\\lib\\site-packages (from matplotlib) (1.3.0)\n",
      "Requirement already satisfied: cycler>=0.10 in c:\\users\\user\\desktop\\cybersecurity-threat-assessment\\env\\lib\\site-packages (from matplotlib) (0.12.1)\n",
      "Requirement already satisfied: fonttools>=4.22.0 in c:\\users\\user\\desktop\\cybersecurity-threat-assessment\\env\\lib\\site-packages (from matplotlib) (4.59.0)\n",
      "Requirement already satisfied: kiwisolver>=1.3.1 in c:\\users\\user\\desktop\\cybersecurity-threat-assessment\\env\\lib\\site-packages (from matplotlib) (1.4.7)\n",
      "Requirement already satisfied: packaging>=20.0 in c:\\users\\user\\desktop\\cybersecurity-threat-assessment\\env\\lib\\site-packages (from matplotlib) (25.0)\n",
      "Requirement already satisfied: pillow>=8 in c:\\users\\user\\desktop\\cybersecurity-threat-assessment\\env\\lib\\site-packages (from matplotlib) (11.3.0)\n",
      "Requirement already satisfied: pyparsing>=2.3.1 in c:\\users\\user\\desktop\\cybersecurity-threat-assessment\\env\\lib\\site-packages (from matplotlib) (3.2.3)\n",
      "Requirement already satisfied: six>=1.5 in c:\\users\\user\\desktop\\cybersecurity-threat-assessment\\env\\lib\\site-packages (from python-dateutil>=2.8.2->pandas) (1.17.0)\n",
      "Note: you may need to restart the kernel to use updated packages.\n"
     ]
    },
    {
     "name": "stderr",
     "output_type": "stream",
     "text": [
      "\n",
      "[notice] A new release of pip is available: 25.0.1 -> 25.2\n",
      "[notice] To update, run: python.exe -m pip install --upgrade pip\n"
     ]
    }
   ],
   "source": [
    "pip install pandas scikit-learn matplotlib seaborn scipy numpy"
   ]
  },
  {
   "cell_type": "code",
   "execution_count": 6,
   "id": "975e31e8",
   "metadata": {},
   "outputs": [
    {
     "ename": "ImportError",
     "evalue": "cannot import name '_c_internal_utils' from partially initialized module 'matplotlib' (most likely due to a circular import) (c:\\Users\\USER\\Desktop\\Cybersecurity-Threat-Assessment\\env\\Lib\\site-packages\\matplotlib\\__init__.py)",
     "output_type": "error",
     "traceback": [
      "\u001b[31m---------------------------------------------------------------------------\u001b[39m",
      "\u001b[31mImportError\u001b[39m                               Traceback (most recent call last)",
      "\u001b[36mCell\u001b[39m\u001b[36m \u001b[39m\u001b[32mIn[6]\u001b[39m\u001b[32m, line 7\u001b[39m\n\u001b[32m      5\u001b[39m \u001b[38;5;28;01mfrom\u001b[39;00m\u001b[38;5;250m \u001b[39m\u001b[34;01msklearn\u001b[39;00m\u001b[34;01m.\u001b[39;00m\u001b[34;01mensemble\u001b[39;00m\u001b[38;5;250m \u001b[39m\u001b[38;5;28;01mimport\u001b[39;00m RandomForestClassifier\n\u001b[32m      6\u001b[39m \u001b[38;5;28;01mfrom\u001b[39;00m\u001b[38;5;250m \u001b[39m\u001b[34;01msklearn\u001b[39;00m\u001b[34;01m.\u001b[39;00m\u001b[34;01mmetrics\u001b[39;00m\u001b[38;5;250m \u001b[39m\u001b[38;5;28;01mimport\u001b[39;00m classification_report, confusion_matrix\n\u001b[32m----> \u001b[39m\u001b[32m7\u001b[39m \u001b[38;5;28;01mimport\u001b[39;00m\u001b[38;5;250m \u001b[39m\u001b[34;01mmatplotlib\u001b[39;00m\u001b[34;01m.\u001b[39;00m\u001b[34;01mpyplot\u001b[39;00m\u001b[38;5;250m \u001b[39m\u001b[38;5;28;01mas\u001b[39;00m\u001b[38;5;250m \u001b[39m\u001b[34;01mplt\u001b[39;00m\n\u001b[32m      8\u001b[39m \u001b[38;5;28;01mimport\u001b[39;00m\u001b[38;5;250m \u001b[39m\u001b[34;01mseaborn\u001b[39;00m\u001b[38;5;250m \u001b[39m\u001b[38;5;28;01mas\u001b[39;00m\u001b[38;5;250m \u001b[39m\u001b[34;01msns\u001b[39;00m\n\u001b[32m      9\u001b[39m \u001b[38;5;28;01mimport\u001b[39;00m\u001b[38;5;250m \u001b[39m\u001b[34;01mos\u001b[39;00m\n",
      "\u001b[36mFile \u001b[39m\u001b[32mc:\\Users\\USER\\Desktop\\Cybersecurity-Threat-Assessment\\env\\Lib\\site-packages\\matplotlib\\__init__.py:159\u001b[39m\n\u001b[32m    155\u001b[39m \u001b[38;5;28;01mfrom\u001b[39;00m\u001b[38;5;250m \u001b[39m\u001b[34;01mpackaging\u001b[39;00m\u001b[34;01m.\u001b[39;00m\u001b[34;01mversion\u001b[39;00m\u001b[38;5;250m \u001b[39m\u001b[38;5;28;01mimport\u001b[39;00m parse \u001b[38;5;28;01mas\u001b[39;00m parse_version\n\u001b[32m    157\u001b[39m \u001b[38;5;66;03m# cbook must import matplotlib only within function\u001b[39;00m\n\u001b[32m    158\u001b[39m \u001b[38;5;66;03m# definitions, so it is safe to import from it here.\u001b[39;00m\n\u001b[32m--> \u001b[39m\u001b[32m159\u001b[39m \u001b[38;5;28;01mfrom\u001b[39;00m\u001b[38;5;250m \u001b[39m\u001b[34;01m.\u001b[39;00m\u001b[38;5;250m \u001b[39m\u001b[38;5;28;01mimport\u001b[39;00m _api, _version, cbook, _docstring, rcsetup\n\u001b[32m    160\u001b[39m \u001b[38;5;28;01mfrom\u001b[39;00m\u001b[38;5;250m \u001b[39m\u001b[34;01mmatplotlib\u001b[39;00m\u001b[34;01m.\u001b[39;00m\u001b[34;01mcbook\u001b[39;00m\u001b[38;5;250m \u001b[39m\u001b[38;5;28;01mimport\u001b[39;00m sanitize_sequence\n\u001b[32m    161\u001b[39m \u001b[38;5;28;01mfrom\u001b[39;00m\u001b[38;5;250m \u001b[39m\u001b[34;01mmatplotlib\u001b[39;00m\u001b[34;01m.\u001b[39;00m\u001b[34;01m_api\u001b[39;00m\u001b[38;5;250m \u001b[39m\u001b[38;5;28;01mimport\u001b[39;00m MatplotlibDeprecationWarning\n",
      "\u001b[36mFile \u001b[39m\u001b[32mc:\\Users\\USER\\Desktop\\Cybersecurity-Threat-Assessment\\env\\Lib\\site-packages\\matplotlib\\cbook.py:32\u001b[39m\n\u001b[32m     29\u001b[39m     \u001b[38;5;28;01mfrom\u001b[39;00m\u001b[38;5;250m \u001b[39m\u001b[34;01mnumpy\u001b[39;00m\u001b[38;5;250m \u001b[39m\u001b[38;5;28;01mimport\u001b[39;00m VisibleDeprecationWarning\n\u001b[32m     31\u001b[39m \u001b[38;5;28;01mimport\u001b[39;00m\u001b[38;5;250m \u001b[39m\u001b[34;01mmatplotlib\u001b[39;00m\n\u001b[32m---> \u001b[39m\u001b[32m32\u001b[39m \u001b[38;5;28;01mfrom\u001b[39;00m\u001b[38;5;250m \u001b[39m\u001b[34;01mmatplotlib\u001b[39;00m\u001b[38;5;250m \u001b[39m\u001b[38;5;28;01mimport\u001b[39;00m _api, _c_internal_utils\n\u001b[32m     35\u001b[39m \u001b[38;5;28;01mdef\u001b[39;00m\u001b[38;5;250m \u001b[39m\u001b[34m_get_running_interactive_framework\u001b[39m():\n\u001b[32m     36\u001b[39m \u001b[38;5;250m    \u001b[39m\u001b[33;03m\"\"\"\u001b[39;00m\n\u001b[32m     37\u001b[39m \u001b[33;03m    Return the interactive framework whose event loop is currently running, if\u001b[39;00m\n\u001b[32m     38\u001b[39m \u001b[33;03m    any, or \"headless\" if no event loop can be started, or None.\u001b[39;00m\n\u001b[32m   (...)\u001b[39m\u001b[32m     44\u001b[39m \u001b[33;03m        \"macosx\", \"headless\", ``None``.\u001b[39;00m\n\u001b[32m     45\u001b[39m \u001b[33;03m    \"\"\"\u001b[39;00m\n",
      "\u001b[31mImportError\u001b[39m: cannot import name '_c_internal_utils' from partially initialized module 'matplotlib' (most likely due to a circular import) (c:\\Users\\USER\\Desktop\\Cybersecurity-Threat-Assessment\\env\\Lib\\site-packages\\matplotlib\\__init__.py)"
     ]
    }
   ],
   "source": [
    "import pandas as pd \n",
    "import pickle\n",
    "from sklearn.model_selection import train_test_split, RandomizedSearchCV\n",
    "from sklearn.feature_extraction.text import TfidfVectorizer\n",
    "from sklearn.ensemble import RandomForestClassifier\n",
    "from sklearn.metrics import classification_report, confusion_matrix\n",
    "import matplotlib.pyplot as plt\n",
    "import seaborn as sns\n",
    "import os\n"
   ]
  },
  {
   "cell_type": "code",
   "execution_count": null,
   "id": "c73dd957",
   "metadata": {},
   "outputs": [],
   "source": [
    "dataset = pd.read_csv('labeled_cves.csv')"
   ]
  },
  {
   "cell_type": "code",
   "execution_count": null,
   "id": "31c4f95e",
   "metadata": {},
   "outputs": [
    {
     "data": {
      "text/html": [
       "<div>\n",
       "<style scoped>\n",
       "    .dataframe tbody tr th:only-of-type {\n",
       "        vertical-align: middle;\n",
       "    }\n",
       "\n",
       "    .dataframe tbody tr th {\n",
       "        vertical-align: top;\n",
       "    }\n",
       "\n",
       "    .dataframe thead th {\n",
       "        text-align: right;\n",
       "    }\n",
       "</style>\n",
       "<table border=\"1\" class=\"dataframe\">\n",
       "  <thead>\n",
       "    <tr style=\"text-align: right;\">\n",
       "      <th></th>\n",
       "      <th>Name</th>\n",
       "      <th>Description</th>\n",
       "      <th>Threat_Type</th>\n",
       "    </tr>\n",
       "  </thead>\n",
       "  <tbody>\n",
       "    <tr>\n",
       "      <th>0</th>\n",
       "      <td>CVE-1999-0001</td>\n",
       "      <td>ip_input.c in BSD-derived TCP/IP implementatio...</td>\n",
       "      <td>Denial of Service</td>\n",
       "    </tr>\n",
       "    <tr>\n",
       "      <th>1</th>\n",
       "      <td>CVE-1999-0002</td>\n",
       "      <td>Buffer overflow in NFS mountd gives root acces...</td>\n",
       "      <td>Buffer Overflow</td>\n",
       "    </tr>\n",
       "    <tr>\n",
       "      <th>2</th>\n",
       "      <td>CVE-1999-0003</td>\n",
       "      <td>Execute commands as root via buffer overflow i...</td>\n",
       "      <td>Buffer Overflow</td>\n",
       "    </tr>\n",
       "    <tr>\n",
       "      <th>3</th>\n",
       "      <td>CVE-1999-0004</td>\n",
       "      <td>MIME buffer overflow in email clients, e.g. So...</td>\n",
       "      <td>Buffer Overflow</td>\n",
       "    </tr>\n",
       "    <tr>\n",
       "      <th>4</th>\n",
       "      <td>CVE-1999-0005</td>\n",
       "      <td>Arbitrary command execution via IMAP buffer ov...</td>\n",
       "      <td>Buffer Overflow</td>\n",
       "    </tr>\n",
       "  </tbody>\n",
       "</table>\n",
       "</div>"
      ],
      "text/plain": [
       "            Name                                        Description  \\\n",
       "0  CVE-1999-0001  ip_input.c in BSD-derived TCP/IP implementatio...   \n",
       "1  CVE-1999-0002  Buffer overflow in NFS mountd gives root acces...   \n",
       "2  CVE-1999-0003  Execute commands as root via buffer overflow i...   \n",
       "3  CVE-1999-0004  MIME buffer overflow in email clients, e.g. So...   \n",
       "4  CVE-1999-0005  Arbitrary command execution via IMAP buffer ov...   \n",
       "\n",
       "         Threat_Type  \n",
       "0  Denial of Service  \n",
       "1    Buffer Overflow  \n",
       "2    Buffer Overflow  \n",
       "3    Buffer Overflow  \n",
       "4    Buffer Overflow  "
      ]
     },
     "execution_count": 5,
     "metadata": {},
     "output_type": "execute_result"
    }
   ],
   "source": [
    "dataset.head()"
   ]
  },
  {
   "cell_type": "code",
   "execution_count": null,
   "id": "34a389a7",
   "metadata": {},
   "outputs": [
    {
     "data": {
      "text/html": [
       "<div>\n",
       "<style scoped>\n",
       "    .dataframe tbody tr th:only-of-type {\n",
       "        vertical-align: middle;\n",
       "    }\n",
       "\n",
       "    .dataframe tbody tr th {\n",
       "        vertical-align: top;\n",
       "    }\n",
       "\n",
       "    .dataframe thead th {\n",
       "        text-align: right;\n",
       "    }\n",
       "</style>\n",
       "<table border=\"1\" class=\"dataframe\">\n",
       "  <thead>\n",
       "    <tr style=\"text-align: right;\">\n",
       "      <th></th>\n",
       "      <th>Name</th>\n",
       "      <th>Description</th>\n",
       "      <th>Threat_Type</th>\n",
       "    </tr>\n",
       "  </thead>\n",
       "  <tbody>\n",
       "    <tr>\n",
       "      <th>count</th>\n",
       "      <td>326277</td>\n",
       "      <td>326277</td>\n",
       "      <td>326277</td>\n",
       "    </tr>\n",
       "    <tr>\n",
       "      <th>unique</th>\n",
       "      <td>326089</td>\n",
       "      <td>233742</td>\n",
       "      <td>11</td>\n",
       "    </tr>\n",
       "    <tr>\n",
       "      <th>top</th>\n",
       "      <td>CVE-2015-0849</td>\n",
       "      <td>** RESERVED ** This candidate has been reserve...</td>\n",
       "      <td>Other</td>\n",
       "    </tr>\n",
       "    <tr>\n",
       "      <th>freq</th>\n",
       "      <td>2</td>\n",
       "      <td>54410</td>\n",
       "      <td>205312</td>\n",
       "    </tr>\n",
       "  </tbody>\n",
       "</table>\n",
       "</div>"
      ],
      "text/plain": [
       "                 Name                                        Description  \\\n",
       "count          326277                                             326277   \n",
       "unique         326089                                             233742   \n",
       "top     CVE-2015-0849  ** RESERVED ** This candidate has been reserve...   \n",
       "freq                2                                              54410   \n",
       "\n",
       "       Threat_Type  \n",
       "count       326277  \n",
       "unique          11  \n",
       "top          Other  \n",
       "freq        205312  "
      ]
     },
     "execution_count": 6,
     "metadata": {},
     "output_type": "execute_result"
    }
   ],
   "source": [
    "dataset.describe()"
   ]
  },
  {
   "cell_type": "code",
   "execution_count": null,
   "id": "e9868f39",
   "metadata": {},
   "outputs": [
    {
     "name": "stdout",
     "output_type": "stream",
     "text": [
      "missing values:  Name           0\n",
      "Description    0\n",
      "Threat_Type    0\n",
      "dtype: int64\n"
     ]
    }
   ],
   "source": [
    "missing_values = dataset.isnull().sum()\n",
    "print(\"missing values: \" , missing_values)"
   ]
  },
  {
   "cell_type": "code",
   "execution_count": null,
   "id": "80d41fc2",
   "metadata": {},
   "outputs": [
    {
     "name": "stdout",
     "output_type": "stream",
     "text": [
      "                  Name                                        Description  \\\n",
      "0        CVE-1999-0001  ip_input.c in BSD-derived TCP/IP implementatio...   \n",
      "1        CVE-1999-0002  Buffer overflow in NFS mountd gives root acces...   \n",
      "2        CVE-1999-0003  Execute commands as root via buffer overflow i...   \n",
      "3        CVE-1999-0004  MIME buffer overflow in email clients, e.g. So...   \n",
      "4        CVE-1999-0005  Arbitrary command execution via IMAP buffer ov...   \n",
      "...                ...                                                ...   \n",
      "326259   CVE-2025-6687  The Magic Buttons for Elementor plugin for Wor...   \n",
      "326260  CVE-2025-52462  Cross-site scripting vulnerability exists in A...   \n",
      "326262   CVE-2025-6463  The Forminator Forms – Contact Form, Payment F...   \n",
      "326274  CVE-2025-24335  Nokia Single RAN baseband software versions ea...   \n",
      "326275  CVE-2025-27021  The misconfiguration in the sudoers configurat...   \n",
      "\n",
      "                  Threat_Type  \n",
      "0           Denial of Service  \n",
      "1             Buffer Overflow  \n",
      "2             Buffer Overflow  \n",
      "3             Buffer Overflow  \n",
      "4             Buffer Overflow  \n",
      "...                       ...  \n",
      "326259   Cross-Site Scripting  \n",
      "326260   Cross-Site Scripting  \n",
      "326262  Remote Code Execution  \n",
      "326274  Remote Code Execution  \n",
      "326275      Denial of Service  \n",
      "\n",
      "[120965 rows x 3 columns]\n",
      "                  Name                                        Description  \\\n",
      "0        CVE-1999-0001  ip_input.c in BSD-derived TCP/IP implementatio...   \n",
      "1        CVE-1999-0002  Buffer overflow in NFS mountd gives root acces...   \n",
      "2        CVE-1999-0003  Execute commands as root via buffer overflow i...   \n",
      "3        CVE-1999-0004  MIME buffer overflow in email clients, e.g. So...   \n",
      "4        CVE-1999-0005  Arbitrary command execution via IMAP buffer ov...   \n",
      "...                ...                                                ...   \n",
      "326259   CVE-2025-6687  The Magic Buttons for Elementor plugin for Wor...   \n",
      "326260  CVE-2025-52462  Cross-site scripting vulnerability exists in A...   \n",
      "326262   CVE-2025-6463  The Forminator Forms – Contact Form, Payment F...   \n",
      "326274  CVE-2025-24335  Nokia Single RAN baseband software versions ea...   \n",
      "326275  CVE-2025-27021  The misconfiguration in the sudoers configurat...   \n",
      "\n",
      "                  Threat_Type  \n",
      "0           Denial of Service  \n",
      "1             Buffer Overflow  \n",
      "2             Buffer Overflow  \n",
      "3             Buffer Overflow  \n",
      "4             Buffer Overflow  \n",
      "...                       ...  \n",
      "326259   Cross-Site Scripting  \n",
      "326260   Cross-Site Scripting  \n",
      "326262  Remote Code Execution  \n",
      "326274  Remote Code Execution  \n",
      "326275      Denial of Service  \n",
      "\n",
      "[120965 rows x 3 columns]\n"
     ]
    }
   ],
   "source": [
    "df = dataset[dataset['Threat_Type'].str.lower() != \"other\"]\n",
    "filter_df = df.dropna(subset=[\"Description\", \"Threat_Type\"])\n",
    "print(df)\n",
    "print(filter_df)"
   ]
  },
  {
   "cell_type": "code",
   "execution_count": null,
   "id": "ef1fbfa1",
   "metadata": {},
   "outputs": [],
   "source": [
    "# Features and labels\n",
    "X = filter_df[\"Description\"]\n",
    "y = filter_df[\"Threat_Type\"]\n"
   ]
  },
  {
   "cell_type": "code",
   "execution_count": null,
   "id": "5d164891",
   "metadata": {},
   "outputs": [
    {
     "name": "stdout",
     "output_type": "stream",
     "text": [
      "  (np.int32(0), np.int32(4238))\t0.3058900236172276\n",
      "  (np.int32(0), np.int32(2480))\t0.29643450667600135\n",
      "  (np.int32(0), np.int32(512))\t0.09901639931284449\n",
      "  (np.int32(0), np.int32(3580))\t0.09853725157768708\n",
      "  (np.int32(0), np.int32(749))\t0.10561717407026781\n",
      "  (np.int32(0), np.int32(967))\t0.1339517953767507\n",
      "  (np.int32(0), np.int32(1462))\t0.12652102275311172\n",
      "  (np.int32(0), np.int32(3901))\t0.12215125007328553\n",
      "  (np.int32(0), np.int32(1332))\t0.1881789252019512\n",
      "  (np.int32(0), np.int32(2140))\t0.33569511367838767\n",
      "  (np.int32(0), np.int32(1302))\t0.15148944480305118\n",
      "  (np.int32(0), np.int32(3124))\t0.28123399717376596\n",
      "  (np.int32(0), np.int32(539))\t0.12448940941766187\n",
      "  (np.int32(0), np.int32(3588))\t0.11895970165700524\n",
      "  (np.int32(0), np.int32(752))\t0.17130377973568228\n",
      "  (np.int32(0), np.int32(972))\t0.14265656082127015\n",
      "  (np.int32(0), np.int32(1463))\t0.12655625670260504\n",
      "  (np.int32(0), np.int32(3918))\t0.26612498963762976\n",
      "  (np.int32(0), np.int32(1320))\t0.38748702261627155\n",
      "  (np.int32(0), np.int32(541))\t0.13199704660229816\n",
      "  (np.int32(0), np.int32(3590))\t0.18250850730665244\n",
      "  (np.int32(0), np.int32(753))\t0.17175379786660167\n",
      "  (np.int32(0), np.int32(973))\t0.14267457686953264\n",
      "  (np.int32(0), np.int32(1475))\t0.2682447980642586\n",
      "  (np.int32(1), np.int32(3580))\t0.15492491697439237\n",
      "  :\t:\n",
      "  (np.int32(120964), np.int32(2844))\t0.24244231435975977\n",
      "  (np.int32(120964), np.int32(3855))\t0.10139376037515914\n",
      "  (np.int32(120964), np.int32(2318))\t0.07534351833629106\n",
      "  (np.int32(120964), np.int32(3859))\t0.10785159108331017\n",
      "  (np.int32(120964), np.int32(2550))\t0.10140496791274026\n",
      "  (np.int32(120964), np.int32(3076))\t0.10029952574647176\n",
      "  (np.int32(120964), np.int32(1827))\t0.16497630992135873\n",
      "  (np.int32(120964), np.int32(1792))\t0.11053274052243699\n",
      "  (np.int32(120964), np.int32(3376))\t0.11627549688798718\n",
      "  (np.int32(120964), np.int32(1577))\t0.08664635024272423\n",
      "  (np.int32(120964), np.int32(2324))\t0.09194626148141935\n",
      "  (np.int32(120964), np.int32(3521))\t0.3335750229639596\n",
      "  (np.int32(120964), np.int32(3254))\t0.16488936203886165\n",
      "  (np.int32(120964), np.int32(2738))\t0.124650009362433\n",
      "  (np.int32(120964), np.int32(3095))\t0.12301264639313704\n",
      "  (np.int32(120964), np.int32(3625))\t0.16454479682735154\n",
      "  (np.int32(120964), np.int32(1516))\t0.11665123151507774\n",
      "  (np.int32(120964), np.int32(661))\t0.17646709756473486\n",
      "  (np.int32(120964), np.int32(2562))\t0.17402572757885745\n",
      "  (np.int32(120964), np.int32(3090))\t0.16454479682735154\n",
      "  (np.int32(120964), np.int32(3862))\t0.1678475192455116\n",
      "  (np.int32(120964), np.int32(529))\t0.16595490992997453\n",
      "  (np.int32(120964), np.int32(2741))\t0.13835877834090943\n",
      "  (np.int32(120964), np.int32(530))\t0.16745642838365246\n",
      "  (np.int32(120964), np.int32(4232))\t0.17646709756473486\n"
     ]
    }
   ],
   "source": [
    "vectorizer = TfidfVectorizer(stop_words=\"english\",\n",
    "                            ngram_range=(1, 3),\n",
    "                            max_features=5000)\n",
    "X_vectorized = vectorizer.fit_transform(X)\n",
    "print(X_vectorized)\n"
   ]
  },
  {
   "cell_type": "code",
   "execution_count": null,
   "id": "3c6932ee",
   "metadata": {},
   "outputs": [],
   "source": [
    "# train and test the data\n",
    "x_train, x_test , Y_train, Y_test = train_test_split(X_vectorized , y,test_size=0.2,random_state=42,shuffle=True)"
   ]
  },
  {
   "cell_type": "code",
   "execution_count": null,
   "id": "078f118d",
   "metadata": {},
   "outputs": [
    {
     "name": "stdout",
     "output_type": "stream",
     "text": [
      "(120965, 5000)\n",
      "120965\n",
      "Fitting 2 folds for each of 10 candidates, totalling 20 fits\n"
     ]
    }
   ],
   "source": [
    "print(X_vectorized.shape) \n",
    "print(len(y))\n",
    "# Grid Search with Random Forest\n",
    "param_dist = {\n",
    "    'n_estimators': randint(50,100),\n",
    "    'max_depth': [10, 20, None],\n",
    "    'min_samples_split': [2, 5, 10]\n",
    "}\n",
    "\n",
    "rf = RandomForestClassifier(class_weight=\"balanced\", random_state=42)\n",
    "random_search = RandomizedSearchCV(rf, \n",
    "                                param_distributions=param_dist,\n",
    "                                n_iter=10,\n",
    "                                cv=2,\n",
    "                                n_jobs=-1,\n",
    "                                verbose=2)\n",
    "\n",
    "random_search.fit(x_train, Y_train)\n",
    "#  best model Evaluation\n",
    "model = random_search.best_estimator_\n",
    "print(\"Best Parameters:\", random_search.best_params_)\n",
    "\n",
    "y_pred = model.predict(x_test)\n",
    "print(\"Classification Report:\")\n",
    "print(classification_report(Y_test, y_pred))"
   ]
  },
  {
   "cell_type": "code",
   "execution_count": null,
   "id": "ae7b93d7",
   "metadata": {},
   "outputs": [
    {
     "name": "stdout",
     "output_type": "stream",
     "text": [
      " confusion_matrix.png\n"
     ]
    },
    {
     "data": {
      "image/png": "[encoded data removed]",
      "text/plain": [
       "<Figure size 1000x600 with 2 Axes>"
      ]
     },
     "metadata": {},
     "output_type": "display_data"
    }
   ],
   "source": [
    "try:\n",
    "    cm = confusion_matrix(Y_test, y_pred, labels=model.classes_)\n",
    "    plt.figure(figsize=(10, 6))\n",
    "    sns.heatmap(cm, annot=True, fmt=\"d\", cmap=\"Blues\", xticklabels=model.classes_, yticklabels=model.classes_)\n",
    "    plt.title(\"Confusion Matrix\")\n",
    "    plt.xlabel(\"Predicted\")\n",
    "    plt.ylabel(\"Actual\")\n",
    "    plt.tight_layout()\n",
    "    plt.savefig(\"confusion_matrix.png\")\n",
    "    print(\" confusion_matrix.png\")\n",
    "except Exception as e:\n",
    "    print(\"confusion matrix could not be generated:\", e)\n"
   ]
  },
  {
   "cell_type": "code",
   "execution_count": null,
   "id": "9cff7612",
   "metadata": {},
   "outputs": [
    {
     "name": "stdout",
     "output_type": "stream",
     "text": [
      "Saving in: c:\\Users\\hp\\Documents\\GitHub\\Cybersecurity-Threat-Assessment\\ctad_model\n",
      "model.pkl\n",
      "vectorizer.pkl\n"
     ]
    }
   ],
   "source": [
    "print(\"Saving in:\", os.getcwd())\n",
    "\n",
    "# Save model and vectorizer\n",
    "with open(\"model.pkl\", \"wb\") as f:\n",
    "    pickle.dump(model, f)\n",
    "with open(\"vectorizer.pkl\", \"wb\") as f:\n",
    "    pickle.dump(vectorizer, f)\n",
    "\n",
    "print(\"model.pkl\")\n",
    "print(\"vectorizer.pkl\")"
   ]
  }
 ],
 "metadata": {
  "kernelspec": {
   "display_name": "env",
   "language": "python",
   "name": "python3"
  },
  "language_info": {
   "codemirror_mode": {
    "name": "ipython",
    "version": 3
   },
   "file_extension": ".py",
   "mimetype": "text/x-python",
   "name": "python",
   "nbconvert_exporter": "python",
   "pygments_lexer": "ipython3",
   "version": "3.12.10"
  }
 },
 "nbformat": 4,
 "nbformat_minor": 5
}
